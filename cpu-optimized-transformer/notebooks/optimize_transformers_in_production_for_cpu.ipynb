{
 "cells": [
  {
   "cell_type": "code",
   "execution_count": 1,
   "id": "ee8e6143-9935-4e4f-8c12-886a462d5da8",
   "metadata": {},
   "outputs": [],
   "source": [
    "#!pip install -q transformers datasets onnxruntime seaborn torch numpy pandas"
   ]
  },
  {
   "cell_type": "markdown",
   "id": "ac4e8285-556a-41f4-9561-c18cdf858159",
   "metadata": {},
   "source": [
    "# Optimize transformers in production on CPU 🛠️"
   ]
  },
  {
   "cell_type": "markdown",
   "id": "29eff659-f9fc-4d3a-9eb4-c67596d5f82a",
   "metadata": {},
   "source": [
    "📝 Note: This notebook covers everything you need to know about optimizing a particular transformer model for production on CPU. The knowledge that is used here comes from the HuggingFace documentation, ONNX documentation and chapter 8 \"Making Transformers Efficient in Production\" from the book \"Natural Language Processing with Transformers\"."
   ]
  },
  {
   "cell_type": "markdown",
   "id": "dacaf4ef",
   "metadata": {},
   "source": [
    "Used materials:\n",
    "- Model used in this notebook: [distilbert-base-uncased-finetuned-sst-2-english](https://huggingface.co/distilbert-base-uncased-finetuned-sst-2-english)\n",
    "- Dataset for benchmarking: [SST2 GLUE dataset](https://huggingface.co/datasets/glue)"
   ]
  },
  {
   "cell_type": "markdown",
   "id": "c043c447",
   "metadata": {},
   "source": [
    "🤗 HuggingFace provides a wide range of models and datasets that can improve a lot of applications. Be sure to check their website: https://huggingface.co/."
   ]
  },
  {
   "cell_type": "code",
   "execution_count": 2,
   "id": "d907d261-b040-40a8-b18f-9266ca8f8aa3",
   "metadata": {},
   "outputs": [],
   "source": [
    "import seaborn as sns\n",
    "from shutil import rmtree\n",
    "from datasets import load_dataset, load_metric\n",
    "import time\n",
    "import torch.nn as nn\n",
    "import torch\n",
    "from transformers.convert_graph_to_onnx import convert\n",
    "from torch.quantization import quantize_dynamic as torch_quantize_dynamic\n",
    "import os\n",
    "from psutil import cpu_count\n",
    "from tqdm import tqdm\n",
    "from pathlib import Path\n",
    "from transformers.convert_graph_to_onnx import convert\n",
    "import numpy as np\n",
    "from transformers import (\n",
    "    AutoModelForSequenceClassification,\n",
    "    AutoTokenizer,\n",
    "    pipeline\n",
    ")\n",
    "from onnxruntime import (GraphOptimizationLevel, InferenceSession, SessionOptions)\n",
    "from onnxruntime.quantization import quantize_dynamic as onnx_quantize_dynamic, QuantType\n",
    "import pandas as pd\n",
    "import matplotlib.pyplot as plt"
   ]
  },
  {
   "cell_type": "markdown",
   "id": "9c931a8f",
   "metadata": {},
   "source": [
    "#### Defining some standard variables"
   ]
  },
  {
   "cell_type": "code",
   "execution_count": 3,
   "id": "0cc1cff4-4c81-4c4c-a046-b7f8466fb9cd",
   "metadata": {},
   "outputs": [
    {
     "name": "stderr",
     "output_type": "stream",
     "text": [
      "Reusing dataset glue (C:\\Users\\Thomas\\.cache\\huggingface\\datasets\\glue\\sst2\\1.0.0\\dacbe3125aa31d7f70367a07a8a9e72a5a0bfeb5fc42e75c9db75b96da6053ad)\n",
      "100%|██████████| 3/3 [00:00<00:00, 332.90it/s]\n"
     ]
    }
   ],
   "source": [
    "task = \"sentiment-analysis\"\n",
    "model_name = \"distilbert-base-uncased-finetuned-sst-2-english\"\n",
    "padding = \"max_length\"\n",
    "labels_mapping = {\"negative\": 0, \"positive\": 1 }\n",
    "accuracy_score = load_metric('accuracy')\n",
    "tokenizer = AutoTokenizer.from_pretrained(model_name)\n",
    "sentiment_dataset = load_dataset(\"glue\", \"sst2\")\n",
    "columns = [\"name\", \"average_latency\", \"std_latency\", \"accuracy\", \"size\"]\n",
    "benchmark_results_df = pd.DataFrame(columns=columns)"
   ]
  },
  {
   "cell_type": "markdown",
   "id": "99930bb4",
   "metadata": {},
   "source": [
    "#### Utility functions"
   ]
  },
  {
   "cell_type": "code",
   "execution_count": 4,
   "id": "c9e02d92-f8a4-4144-b78a-56ba6858e6c0",
   "metadata": {},
   "outputs": [],
   "source": [
    "def label2id(label):\n",
    "    return labels_mapping.get(label, None)\n",
    "\n",
    "def create_model_for_provider(model_path, provider=\"CPUExecutionProvider\"):\n",
    "    options = SessionOptions()\n",
    "    options.intra_op_num_threads = 1\n",
    "    options.graph_optimization_level = GraphOptimizationLevel.ORT_ENABLE_ALL\n",
    "    session = InferenceSession(str(model_path), options, providers=[provider])\n",
    "    session.disable_fallback()\n",
    "    return session"
   ]
  },
  {
   "cell_type": "code",
   "execution_count": 5,
   "id": "62d1ab6a",
   "metadata": {},
   "outputs": [],
   "source": [
    "class Benchmarker:\n",
    "    def __init__(self, name, pipeline, dataset=None) -> None:\n",
    "        self.name = name\n",
    "        self.pipeline = pipeline\n",
    "        self.dataset = dataset\n",
    "    \n",
    "    def measure_latency(self, input_data) -> dict:\n",
    "        latencies = list()\n",
    "        for _ in range(100):\n",
    "            self.pipeline(input_data)\n",
    "        \n",
    "        for _ in range(1000):\n",
    "            start_time = time.perf_counter()\n",
    "            self.pipeline(input_data)\n",
    "            end_time = time.perf_counter()\n",
    "            latencies.append((end_time - start_time)*1000)\n",
    "        \n",
    "        latencies = np.array(latencies)\n",
    "        return {\"average_latency\": np.mean(latencies), \"std_latency\": np.std(latencies)}\n",
    "    \n",
    "    def compute_accuracy(self, dataset=None) -> float:\n",
    "        if dataset is None:\n",
    "            dataset = self.dataset\n",
    "        \n",
    "        predictions, labels = [], []\n",
    "\n",
    "        for sample in tqdm(self.dataset):\n",
    "            prediction = self.pipeline(sample[\"sentence\"])[0][\"label\"]\n",
    "            predictions.append(label2id(prediction.lower()))\n",
    "            labels.append(sample[\"label\"])\n",
    "        \n",
    "        return accuracy_score.compute(predictions=predictions, references=labels).get(\"accuracy\")\n",
    "    \n",
    "    def compute_size(self):\n",
    "        state_dict = self.pipeline.model.state_dict()\n",
    "        tmp_path = Path(\"model.pt\")\n",
    "        torch.save(state_dict, tmp_path)\n",
    "        size_mb = Path(tmp_path).stat().st_size / (1024 * 1024)\n",
    "        tmp_path.unlink()\n",
    "        return size_mb\n",
    "    \n",
    "    def run_full_benchmark(self, input_data, dataset=None):\n",
    "        result = {\"name\": self.name}\n",
    "        result.update(self.measure_latency(input_data))\n",
    "        result[\"accuracy\"] = self.compute_accuracy(dataset) \n",
    "        result[\"size\"] = self.compute_size()\n",
    "        return result\n",
    "    \n",
    "    def print_results(self, benchmark_report):\n",
    "        print(f\"BENCHMARK REPORT\".center(40, \"-\"))\n",
    "        print(f\"Name {benchmark_report['name']}\")\n",
    "        print(f\"Latency: {benchmark_report['average_latency']:.2f} ms\")\n",
    "        print(f\"Accuracy on dataset: {benchmark_report['accuracy'] * 100:.2f}%\")\n",
    "        print(f\"Size: {benchmark_report['size']:.2f} MB\")\n",
    "        print(f\"\".center(40, \"-\"))\n",
    "\n",
    "        \n"
   ]
  },
  {
   "cell_type": "markdown",
   "id": "5e8b0d8d-dff8-492e-ab15-40b2adaaf822",
   "metadata": {},
   "source": [
    "## Baseline model"
   ]
  },
  {
   "cell_type": "code",
   "execution_count": 6,
   "id": "2712207d",
   "metadata": {},
   "outputs": [
    {
     "name": "stderr",
     "output_type": "stream",
     "text": [
      "100%|██████████| 872/872 [00:17<00:00, 49.28it/s]\n"
     ]
    },
    {
     "name": "stdout",
     "output_type": "stream",
     "text": [
      "------------BENCHMARK REPORT------------\n",
      "Name baseline-torch\n",
      "Latency: 11.56 ms\n",
      "Accuracy on dataset: 91.06%\n",
      "Size: 255.45 MB\n",
      "----------------------------------------\n"
     ]
    }
   ],
   "source": [
    "classifier = pipeline(task=task, model=model_name)\n",
    "benchmarker = Benchmarker(f\"baseline-torch\", classifier, sentiment_dataset[\"validation\"])\n",
    "benchmark_report = benchmarker.run_full_benchmark(\"I like you!\")\n",
    "benchmarker.print_results(benchmark_report)\n",
    "benchmark_results_df = benchmark_results_df.append(benchmark_report, ignore_index=True)"
   ]
  },
  {
   "cell_type": "markdown",
   "id": "d428d292-d178-4136-97c4-ebbf99180b78",
   "metadata": {},
   "source": [
    "## Baseline model (quantization)"
   ]
  },
  {
   "cell_type": "code",
   "execution_count": 7,
   "id": "13fb7f1c-7409-444e-9b2c-e95c47b1adfc",
   "metadata": {},
   "outputs": [],
   "source": [
    "tokenizer = AutoTokenizer.from_pretrained(model_name)\n",
    "model = (AutoModelForSequenceClassification.from_pretrained(model_name).to(\"cpu\"))\n",
    "\n",
    "model_quantized = torch_quantize_dynamic(model, {nn.Linear}, dtype=torch.qint8)"
   ]
  },
  {
   "cell_type": "code",
   "execution_count": 8,
   "id": "88c645bc-2d36-46e8-b194-c16baf210fb4",
   "metadata": {},
   "outputs": [
    {
     "name": "stderr",
     "output_type": "stream",
     "text": [
      "100%|██████████| 872/872 [00:11<00:00, 74.88it/s]\n"
     ]
    },
    {
     "name": "stdout",
     "output_type": "stream",
     "text": [
      "------------BENCHMARK REPORT------------\n",
      "Name baseline-torch-quant\n",
      "Latency: 10.73 ms\n",
      "Accuracy on dataset: 90.14%\n",
      "Size: 132.29 MB\n",
      "----------------------------------------\n"
     ]
    }
   ],
   "source": [
    "classifier = pipeline(task=task, model=model_quantized, tokenizer=tokenizer)\n",
    "benchmarker = Benchmarker(f\"baseline-torch-quant\", classifier, sentiment_dataset[\"validation\"])\n",
    "benchmark_report = benchmarker.run_full_benchmark(\"I like you!\")\n",
    "benchmarker.print_results(benchmark_report)\n",
    "benchmark_results_df = benchmark_results_df.append(benchmark_report, ignore_index=True)"
   ]
  },
  {
   "cell_type": "markdown",
   "id": "e5b8e54c-c47c-4c8b-aeed-c6fa31a3f9b4",
   "metadata": {},
   "source": [
    "## Baseline model (ONNX)"
   ]
  },
  {
   "cell_type": "code",
   "execution_count": 9,
   "id": "472649cf-90a1-46bd-8078-6158589810de",
   "metadata": {},
   "outputs": [],
   "source": [
    "os.environ[\"OMP_NUM_THREADS\"] = f\"{cpu_count()}\"\n",
    "os.environ[\"OMP_WAIT_POLICY\"] = \"ACTIVE\"\n",
    "onnx_convert_framework = \"pt\"\n",
    "onnx_convert_opset_version = 13\n",
    "onnx_save_path = \"onnx/\"\n",
    "onnx_model_path = Path(f\"{onnx_save_path}baseline-ort.onnx\")"
   ]
  },
  {
   "cell_type": "code",
   "execution_count": 10,
   "id": "3cefdc37-7c92-4659-acbb-b871dcc9cfa1",
   "metadata": {},
   "outputs": [
    {
     "name": "stdout",
     "output_type": "stream",
     "text": [
      "ONNX opset version set to: 13\n",
      "Loading pipeline (model: distilbert-base-uncased-finetuned-sst-2-english, tokenizer: PreTrainedTokenizerFast(name_or_path='distilbert-base-uncased-finetuned-sst-2-english', vocab_size=30522, model_max_len=512, is_fast=True, padding_side='right', special_tokens={'unk_token': '[UNK]', 'sep_token': '[SEP]', 'pad_token': '[PAD]', 'cls_token': '[CLS]', 'mask_token': '[MASK]'}))\n",
      "Creating folder onnx\n",
      "Using framework PyTorch: 1.10.1\n",
      "Found input input_ids with shape: {0: 'batch', 1: 'sequence'}\n",
      "Found input attention_mask with shape: {0: 'batch', 1: 'sequence'}\n",
      "Found output output_0 with shape: {0: 'batch'}\n",
      "Ensuring inputs are in correct order\n",
      "head_mask is not present in the generated input list.\n",
      "Generated inputs order: ['input_ids', 'attention_mask']\n"
     ]
    },
    {
     "name": "stderr",
     "output_type": "stream",
     "text": [
      "C:\\Users\\Thomas\\miniconda3\\envs\\cpu_optimized_transformer\\lib\\site-packages\\torch\\onnx\\utils.py:90: UserWarning: 'enable_onnx_checker' is deprecated and ignored. It will be removed in the next PyTorch release. To proceed despite ONNX checker failures, catch torch.onnx.ONNXCheckerError.\n",
      "  warnings.warn(\"'enable_onnx_checker' is deprecated and ignored. It will be removed in \"\n",
      "C:\\Users\\Thomas\\miniconda3\\envs\\cpu_optimized_transformer\\lib\\site-packages\\torch\\onnx\\utils.py:103: UserWarning: `use_external_data_format' is deprecated and ignored. Will be removed in next PyTorch release. The code will work as it is False if models are not larger than 2GB, Otherwise set to False because of size limits imposed by Protocol Buffers.\n",
      "  warnings.warn(\"`use_external_data_format' is deprecated and ignored. Will be removed in next \"\n"
     ]
    }
   ],
   "source": [
    "if os.path.exists(onnx_save_path):\n",
    "    rmtree(onnx_save_path)\n",
    "convert(framework=onnx_convert_framework, model=model_name, tokenizer=tokenizer, output=onnx_model_path, opset=onnx_convert_opset_version, pipeline_name=task)"
   ]
  },
  {
   "cell_type": "code",
   "execution_count": 11,
   "id": "2e15de97-0cbb-415a-837d-e522fcba9c38",
   "metadata": {},
   "outputs": [],
   "source": [
    "from scipy.special import softmax\n",
    "\n",
    "class OnnxPipeline:\n",
    "    def __init__(self, model, tokenizer):\n",
    "        self.model = model\n",
    "        self.tokenizer = tokenizer\n",
    "\n",
    "    def __call__(self, query):\n",
    "        model_inputs = self.tokenizer(query, return_tensors=\"pt\")\n",
    "        inputs_onnx = {k: v.cpu().detach().numpy()\n",
    "                       for k, v in model_inputs.items()}\n",
    "        logits = self.model.run(None, inputs_onnx)[0][0, :]\n",
    "        probs = softmax(logits)\n",
    "        pred_idx = np.argmax(probs).item()\n",
    "        return [{\"label\": pred_idx, \"score\": probs[pred_idx]}]"
   ]
  },
  {
   "cell_type": "code",
   "execution_count": 12,
   "id": "d3f7f113-94b8-4137-825f-607f3602ed93",
   "metadata": {},
   "outputs": [],
   "source": [
    "class OnnxBenchmarker(Benchmarker):\n",
    "    def __init__(self, *args, **kwargs):\n",
    "        super().__init__(*args, **kwargs)\n",
    "        \n",
    "    def compute_size(self):\n",
    "        size_mb = Path(f\"onnx/{self.name}.onnx\").stat().st_size / (1024 * 1024)\n",
    "        return size_mb\n",
    "    \n",
    "    def compute_accuracy(self, dataset):\n",
    "        \"\"\"This overrides the PerformanceBenchmark.compute_accuracy() method\"\"\"\n",
    "        if dataset is None:\n",
    "            dataset = self.dataset\n",
    "        \n",
    "        predictions, labels = [], []\n",
    "\n",
    "        for sample in tqdm(self.dataset):\n",
    "            prediction = self.pipeline(sample[\"sentence\"])[0][\"label\"]\n",
    "            predictions.append(prediction)\n",
    "            labels.append(sample[\"label\"])\n",
    "        \n",
    "        return accuracy_score.compute(predictions=predictions, references=labels).get(\"accuracy\")"
   ]
  },
  {
   "cell_type": "code",
   "execution_count": 13,
   "id": "f14d31e2-a055-4b49-8445-c07537b0fb28",
   "metadata": {},
   "outputs": [
    {
     "name": "stderr",
     "output_type": "stream",
     "text": [
      "100%|██████████| 872/872 [00:19<00:00, 45.81it/s]"
     ]
    },
    {
     "name": "stdout",
     "output_type": "stream",
     "text": [
      "------------BENCHMARK REPORT------------\n",
      "Name baseline-ort\n",
      "Latency: 7.69 ms\n",
      "Accuracy on dataset: 91.06%\n",
      "Size: 255.45 MB\n",
      "----------------------------------------\n"
     ]
    },
    {
     "name": "stderr",
     "output_type": "stream",
     "text": [
      "\n"
     ]
    }
   ],
   "source": [
    "onnx_model = create_model_for_provider(onnx_model_path)\n",
    "classifier = OnnxPipeline(onnx_model, tokenizer)\n",
    "benchmarker = OnnxBenchmarker(f\"baseline-ort\", classifier, sentiment_dataset[\"validation\"])\n",
    "benchmark_report = benchmarker.run_full_benchmark(\"I like you!\")\n",
    "benchmarker.print_results(benchmark_report)\n",
    "benchmark_results_df = benchmark_results_df.append(benchmark_report, ignore_index=True)"
   ]
  },
  {
   "cell_type": "markdown",
   "id": "345a3559-64a4-4ca5-a518-46cf2e8dbba5",
   "metadata": {},
   "source": [
    "## Baseline model (ONNX + quantization)"
   ]
  },
  {
   "cell_type": "code",
   "execution_count": 14,
   "id": "9e7e13cc-126c-471f-bc08-9d8983dc654c",
   "metadata": {},
   "outputs": [],
   "source": [
    "model_input = onnx_model_path\n",
    "model_output = f\"{onnx_save_path}baseline-ort-quant.onnx\"\n",
    "onnx_quantize_dynamic(model_input, model_output, weight_type=QuantType.QInt8)"
   ]
  },
  {
   "cell_type": "code",
   "execution_count": 15,
   "id": "6a03e20a-b80e-4cb2-a659-81d8d1ee0748",
   "metadata": {},
   "outputs": [
    {
     "name": "stderr",
     "output_type": "stream",
     "text": [
      "100%|██████████| 872/872 [00:09<00:00, 88.93it/s]"
     ]
    },
    {
     "name": "stdout",
     "output_type": "stream",
     "text": [
      "------------BENCHMARK REPORT------------\n",
      "Name baseline-ort-quant\n",
      "Latency: 3.64 ms\n",
      "Accuracy on dataset: 90.37%\n",
      "Size: 64.10 MB\n",
      "----------------------------------------\n"
     ]
    },
    {
     "name": "stderr",
     "output_type": "stream",
     "text": [
      "\n"
     ]
    }
   ],
   "source": [
    "onnx_quantized_model = create_model_for_provider(model_output)\n",
    "classifier = OnnxPipeline(onnx_quantized_model, tokenizer)\n",
    "benchmarker = OnnxBenchmarker(f\"baseline-ort-quant\", classifier, sentiment_dataset[\"validation\"])\n",
    "benchmark_report = benchmarker.run_full_benchmark(\"I like you!\")\n",
    "benchmarker.print_results(benchmark_report)\n",
    "benchmark_results_df = benchmark_results_df.append(benchmark_report, ignore_index=True)"
   ]
  },
  {
   "cell_type": "markdown",
   "id": "8cbf004e",
   "metadata": {},
   "source": [
    "## Wrap-up"
   ]
  },
  {
   "cell_type": "code",
   "execution_count": 16,
   "id": "ae5d094a",
   "metadata": {},
   "outputs": [
    {
     "data": {
      "image/png": "[encoded data removed]",
      "text/plain": [
       "<Figure size 432x288 with 1 Axes>"
      ]
     },
     "metadata": {
      "needs_background": "light"
     },
     "output_type": "display_data"
    }
   ],
   "source": [
    "graph = sns.barplot(x=\"average_latency\", y=\"name\", data=benchmark_results_df, order=benchmark_results_df.sort_values('average_latency', ascending=False)[\"name\"], orient=\"h\")\n",
    "graph.set_title(\"Comparison of the size of the models\")\n",
    "graph.set_ylabel(\"Model\")\n",
    "graph.set_xlabel(\"Average latency in ms\")\n",
    "plt.show()"
   ]
  },
  {
   "cell_type": "code",
   "execution_count": 17,
   "id": "3f0b3a69",
   "metadata": {},
   "outputs": [
    {
     "data": {
      "image/png": "[encoded data removed]",
      "text/plain": [
       "<Figure size 432x288 with 1 Axes>"
      ]
     },
     "metadata": {
      "needs_background": "light"
     },
     "output_type": "display_data"
    }
   ],
   "source": [
    "graph = sns.barplot(x=\"size\", y=\"name\", data=benchmark_results_df, order=benchmark_results_df.sort_values('size', ascending=False)[\"name\"], orient=\"h\")\n",
    "graph.set_title(\"Comparison of the size of the models\")\n",
    "graph.set_ylabel(\"Model\")\n",
    "graph.set_xlabel(\"Model size in MB\")\n",
    "plt.show()"
   ]
  },
  {
   "cell_type": "code",
   "execution_count": 18,
   "id": "152e2737",
   "metadata": {},
   "outputs": [
    {
     "data": {
      "text/html": [
       "<div>\n",
       "<style scoped>\n",
       "    .dataframe tbody tr th:only-of-type {\n",
       "        vertical-align: middle;\n",
       "    }\n",
       "\n",
       "    .dataframe tbody tr th {\n",
       "        vertical-align: top;\n",
       "    }\n",
       "\n",
       "    .dataframe thead th {\n",
       "        text-align: right;\n",
       "    }\n",
       "</style>\n",
       "<table border=\"1\" class=\"dataframe\">\n",
       "  <thead>\n",
       "    <tr style=\"text-align: right;\">\n",
       "      <th></th>\n",
       "      <th>name</th>\n",
       "      <th>average_latency</th>\n",
       "      <th>std_latency</th>\n",
       "      <th>accuracy</th>\n",
       "      <th>size</th>\n",
       "    </tr>\n",
       "  </thead>\n",
       "  <tbody>\n",
       "    <tr>\n",
       "      <th>0</th>\n",
       "      <td>baseline-torch</td>\n",
       "      <td>11.556954</td>\n",
       "      <td>0.756064</td>\n",
       "      <td>0.910550</td>\n",
       "      <td>255.449937</td>\n",
       "    </tr>\n",
       "    <tr>\n",
       "      <th>1</th>\n",
       "      <td>baseline-torch-quant</td>\n",
       "      <td>10.728135</td>\n",
       "      <td>1.091901</td>\n",
       "      <td>0.901376</td>\n",
       "      <td>132.286950</td>\n",
       "    </tr>\n",
       "    <tr>\n",
       "      <th>2</th>\n",
       "      <td>baseline-ort</td>\n",
       "      <td>7.694661</td>\n",
       "      <td>0.455093</td>\n",
       "      <td>0.910550</td>\n",
       "      <td>255.449301</td>\n",
       "    </tr>\n",
       "    <tr>\n",
       "      <th>3</th>\n",
       "      <td>baseline-ort-quant</td>\n",
       "      <td>3.635198</td>\n",
       "      <td>0.245165</td>\n",
       "      <td>0.903670</td>\n",
       "      <td>64.095174</td>\n",
       "    </tr>\n",
       "  </tbody>\n",
       "</table>\n",
       "</div>"
      ],
      "text/plain": [
       "                   name  average_latency  std_latency  accuracy        size\n",
       "0        baseline-torch        11.556954     0.756064  0.910550  255.449937\n",
       "1  baseline-torch-quant        10.728135     1.091901  0.901376  132.286950\n",
       "2          baseline-ort         7.694661     0.455093  0.910550  255.449301\n",
       "3    baseline-ort-quant         3.635198     0.245165  0.903670   64.095174"
      ]
     },
     "execution_count": 18,
     "metadata": {},
     "output_type": "execute_result"
    }
   ],
   "source": [
    "benchmark_results_df"
   ]
  },
  {
   "cell_type": "markdown",
   "id": "8ec17cc4",
   "metadata": {},
   "source": [
    "💨 Conclusion: Techniques such as serving frameworks (e.g. ONNX) and quantization can speed up transformer model inference a lot. The model in this notebook has accelerated almost 4 times compared to the baseline with PyTorch with an accuracy drop < 1%."
   ]
  }
 ],
 "metadata": {
  "environment": {
   "kernel": "python3",
   "name": "pytorch-gpu.1-10.m87",
   "type": "gcloud",
   "uri": "gcr.io/deeplearning-platform-release/pytorch-gpu.1-10:m87"
  },
  "kernelspec": {
   "display_name": "Python 3",
   "language": "python",
   "name": "python3"
  },
  "language_info": {
   "codemirror_mode": {
    "name": "ipython",
    "version": 3
   },
   "file_extension": ".py",
   "mimetype": "text/x-python",
   "name": "python",
   "nbconvert_exporter": "python",
   "pygments_lexer": "ipython3",
   "version": "3.9.7"
  }
 },
 "nbformat": 4,
 "nbformat_minor": 5
}
