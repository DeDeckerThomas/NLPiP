{
 "cells": [
  {
   "cell_type": "code",
   "execution_count": 1,
   "metadata": {},
   "outputs": [],
   "source": [
    "# !pip3 install torch==1.10.1+cu113 torchvision==0.11.2+cu113 torchaudio==0.10.1+cu113 -f https://download.pytorch.org/whl/cu113/torch_stable.html ipywidgets pytorch-quantization\n",
    "# !pip3 install git+https://github.com/NVIDIA/TensorRT#egg=pytorch-quantization\\&subdirectory=tools/pytorch-quantization/==8.2.2\n",
    "# !pip3 install git+https://github.com/ELS-RD/transformer-deploy\n",
    "# !pip3 install datasets sklearn seaborn onnxruntime-gpu==1.9.0 pycuda nvidia-tensorrt==8.2.2.1\n",
    "# !pip install numpy --upgrade"
   ]
  },
  {
   "cell_type": "markdown",
   "metadata": {},
   "source": [
    "# Optimize transformers in production on GPU 🛠️"
   ]
  },
  {
   "cell_type": "markdown",
   "metadata": {},
   "source": [
    "📝 Note: This notebook covers everything you need to know about optimizing a particular transformer model for production on GPU. The knowledge that is used here comes from the TensorRT documentation, ONNX documentation and the transformers-deploy library (ELS-RD) documentation + end-to-end quantization notebook."
   ]
  },
  {
   "cell_type": "markdown",
   "metadata": {},
   "source": [
    "Some code snippets in this notebook come from the [end-to-end quantization notebook](https://github.com/ELS-RD/transformer-deploy/blob/main/demo/quantization/quantization_end_to_end.ipynb) of the transformers-deploy library. This library has some interesting insights + examples."
   ]
  },
  {
   "cell_type": "markdown",
   "metadata": {},
   "source": [
    "Used materials:\n",
    "- Model used in this notebook: [distilbert-base-uncased-finetuned-sst-2-english](https://huggingface.co/distilbert-base-uncased-finetuned-sst-2-english)\n",
    "- Dataset for benchmarking: [SST2 GLUE dataset](https://huggingface.co/datasets/glue)"
   ]
  },
  {
   "cell_type": "markdown",
   "metadata": {},
   "source": [
    "🤗 HuggingFace provides a wide range of models and datasets that can improve a lot of applications. Be sure to check their website: https://huggingface.co/."
   ]
  },
  {
   "cell_type": "code",
   "execution_count": 3,
   "metadata": {},
   "outputs": [
    {
     "name": "stdout",
     "output_type": "stream",
     "text": [
      "Mon Jan 31 13:54:42 2022       \n",
      "+-----------------------------------------------------------------------------+\n",
      "| NVIDIA-SMI 510.39.01    Driver Version: 511.23       CUDA Version: 11.6     |\n",
      "|-------------------------------+----------------------+----------------------+\n",
      "| GPU  Name        Persistence-M| Bus-Id        Disp.A | Volatile Uncorr. ECC |\n",
      "| Fan  Temp  Perf  Pwr:Usage/Cap|         Memory-Usage | GPU-Util  Compute M. |\n",
      "|                               |                      |               MIG M. |\n",
      "|===============================+======================+======================|\n",
      "|   0  NVIDIA GeForce ...  On   | 00000000:2D:00.0  On |                  N/A |\n",
      "|  0%   58C    P8    24W / 270W |   1451MiB /  8192MiB |     17%      Default |\n",
      "|                               |                      |                  N/A |\n",
      "+-------------------------------+----------------------+----------------------+\n",
      "                                                                               \n",
      "+-----------------------------------------------------------------------------+\n",
      "| Processes:                                                                  |\n",
      "|  GPU   GI   CI        PID   Type   Process name                  GPU Memory |\n",
      "|        ID   ID                                                   Usage      |\n",
      "|=============================================================================|\n",
      "|  No running processes found                                                 |\n",
      "+-----------------------------------------------------------------------------+\n"
     ]
    }
   ],
   "source": [
    "!nvidia-smi"
   ]
  },
  {
   "cell_type": "code",
   "execution_count": 37,
   "metadata": {},
   "outputs": [],
   "source": [
    "import logging\n",
    "import datasets\n",
    "import numpy as np\n",
    "import pycuda.autoinit\n",
    "import tensorrt as trt\n",
    "import torch\n",
    "import transformers\n",
    "from pycuda._driver import Stream\n",
    "from tensorrt.tensorrt import IExecutionContext, Logger, Runtime\n",
    "from pytorch_quantization import nn as quant_nn\n",
    "import seaborn as sns\n",
    "import matplotlib.pyplot as plt\n",
    "\n",
    "from transformers import (\n",
    "    AutoModelForSequenceClassification,\n",
    "    AutoTokenizer,\n",
    "    IntervalStrategy,\n",
    "    PreTrainedModel,\n",
    "    PreTrainedTokenizer,\n",
    "    Trainer,\n",
    "    TrainingArguments,\n",
    "    pipeline\n",
    ")\n",
    "from datasets import load_dataset, load_metric\n",
    "from collections import OrderedDict\n",
    "\n",
    "from transformer_deploy.backends.ort_utils import (\n",
    "    cpu_quantization,\n",
    "    create_model_for_provider,\n",
    "    optimize_onnx,\n",
    ")\n",
    "from transformer_deploy.backends.pytorch_utils import convert_to_onnx, get_model_size\n",
    "from transformer_deploy.backends.trt_utils import build_engine, get_binding_idxs, infer_tensorrt, load_engine\n",
    "from transformer_deploy.benchmarks.utils import print_timings, track_infer_time\n",
    "from transformer_deploy.QDQModels.calibration_utils import QATCalibrate\n",
    "import pandas as pd\n",
    "from tqdm import tqdm\n",
    "from pathlib import Path\n",
    "import time\n",
    "from transformer_deploy.backends.trt_utils import build_engine, load_engine, save_engine\n",
    "from scipy.special import softmax"
   ]
  },
  {
   "cell_type": "markdown",
   "metadata": {},
   "source": [
    "#### Defining loggers"
   ]
  },
  {
   "cell_type": "markdown",
   "metadata": {},
   "source": [
    "Setting the logging level to error to improve intelligibility."
   ]
  },
  {
   "cell_type": "code",
   "execution_count": 5,
   "metadata": {},
   "outputs": [],
   "source": [
    "log_level = logging.ERROR\n",
    "logging.getLogger().setLevel(log_level)\n",
    "datasets.utils.logging.set_verbosity(log_level)\n",
    "transformers.utils.logging.set_verbosity(log_level)\n",
    "transformers.utils.logging.enable_default_handler()\n",
    "transformers.utils.logging.enable_explicit_format()\n",
    "trt_logger: Logger = trt.Logger(trt.Logger.ERROR)\n",
    "transformers.logging.set_verbosity_error()"
   ]
  },
  {
   "cell_type": "markdown",
   "metadata": {},
   "source": [
    "#### Defining some standard variables"
   ]
  },
  {
   "cell_type": "code",
   "execution_count": 6,
   "metadata": {},
   "outputs": [
    {
     "data": {
      "application/vnd.jupyter.widget-view+json": {
       "model_id": "93832ddea4154a9dab2e4f1b0cada15c",
       "version_major": 2,
       "version_minor": 0
      },
      "text/plain": [
       "  0%|          | 0/3 [00:00<?, ?it/s]"
      ]
     },
     "metadata": {},
     "output_type": "display_data"
    }
   ],
   "source": [
    "task = \"sst2\"\n",
    "model_name = \"distilbert-base-uncased-finetuned-sst-2-english\"\n",
    "padding = \"max_length\"\n",
    "labels_mapping = {\"negative\": 0, \"positive\": 1 }\n",
    "accuracy_score = load_metric('accuracy')\n",
    "tokenizer = AutoTokenizer.from_pretrained(model_name)\n",
    "sentiment_dataset = load_dataset(\"glue\", \"sst2\")\n",
    "columns = [\"name\", \"average_latency\", \"std_latency\", \"accuracy\", \"size\"]\n",
    "benchmark_results_df = pd.DataFrame(columns=columns)\n",
    "validation_key = \"validation\"\n",
    "num_labels = 2\n",
    "batch_size = 32\n",
    "max_seq_length = 128\n",
    "columns = [\"name\", \"average_latency\", \"std_latency\", \"accuracy\", \"size\"]\n",
    "benchmark_results_df = pd.DataFrame(columns=columns)\n",
    "temp_dir = \"./temp\"\n",
    "model_path = f\"{temp_dir}/model\""
   ]
  },
  {
   "cell_type": "code",
   "execution_count": 7,
   "metadata": {},
   "outputs": [],
   "source": [
    "nr_steps = 1000\n",
    "strategy = IntervalStrategy.STEPS\n",
    "args = TrainingArguments(\n",
    "    f\"{temp_dir}/{model_name}\",\n",
    "    evaluation_strategy=strategy,\n",
    "    eval_steps=nr_steps,\n",
    "    logging_steps=nr_steps,\n",
    "    save_steps=nr_steps,\n",
    "    save_strategy=strategy,\n",
    "    learning_rate=1e-5,\n",
    "    per_device_train_batch_size=batch_size,\n",
    "    per_device_eval_batch_size=batch_size * 2,\n",
    "    num_train_epochs=1,\n",
    "    fp16=True,\n",
    "    group_by_length=True,\n",
    "    weight_decay=0.01,\n",
    "    load_best_model_at_end=True,\n",
    "    metric_for_best_model=\"accuracy\",\n",
    "    report_to=[],\n",
    ")"
   ]
  },
  {
   "cell_type": "markdown",
   "metadata": {},
   "source": [
    "#### Utility functions"
   ]
  },
  {
   "cell_type": "code",
   "execution_count": 8,
   "metadata": {},
   "outputs": [],
   "source": [
    "def label2id(label):\n",
    "    return labels_mapping.get(label, None)\n",
    "\n",
    "def preprocess(data):\n",
    "    return tokenizer(data[\"sentence\"], truncation=True, padding=\"max_length\", max_length=max_seq_length)\n",
    "\n",
    "def compute_metrics(eval_pred):\n",
    "    predictions, labels = eval_pred\n",
    "    if task != \"stsb\":\n",
    "        predictions = np.argmax(predictions, axis=1)\n",
    "    else:\n",
    "        predictions = predictions[:, 0]\n",
    "    return metric.compute(predictions=predictions, references=labels)\n",
    "    \n",
    "def compute_metrics(eval_pred):\n",
    "    predictions, labels = eval_pred\n",
    "    if task != \"stsb\":\n",
    "        predictions = np.argmax(predictions, axis=1)\n",
    "    else:\n",
    "        predictions = predictions[:, 0]\n",
    "    return metric.compute(predictions=predictions, references=labels)\n",
    "\n",
    "\n",
    "def convert_tensor(data, output: str):\n",
    "    input = OrderedDict()\n",
    "    for k in [\"input_ids\", \"attention_mask\", \"token_type_ids\"]:\n",
    "        if k in data:\n",
    "            v = data[k]\n",
    "            if output == \"torch\":\n",
    "                value = torch.tensor(v, dtype=torch.long, device=\"cuda\")\n",
    "            elif output == \"np\":\n",
    "                value = np.asarray(v, dtype=np.int32)\n",
    "            else:\n",
    "                raise Exception(f\"unknown output type: {output}\")\n",
    "            input[k] = value\n",
    "    return input\n",
    "\n",
    "\n",
    "def measure_accuracy(infer, int64: bool) -> float:\n",
    "    outputs = list()\n",
    "    for start_index in range(0, len(encoded_dataset[validation_key]), batch_size):\n",
    "        end_index = start_index + batch_size\n",
    "        data = encoded_dataset[validation_key][start_index:end_index]\n",
    "        inputs = convert_tensor(data=data, output=\"np\")\n",
    "        if int64:\n",
    "            for k, v in inputs.items():\n",
    "                inputs[k] = v.astype(np.int64)\n",
    "        output = infer(inputs)\n",
    "        output = np.argmax(output[0], axis=1).astype(int).tolist()\n",
    "        outputs.extend(output)\n",
    "    return np.mean(np.array(outputs) == np.array(validation_labels))\n",
    "\n",
    "\n",
    "def get_trainer(model: PreTrainedModel) -> Trainer:\n",
    "    trainer = Trainer(\n",
    "        model,\n",
    "        args,\n",
    "        train_dataset=encoded_dataset[\"train\"],\n",
    "        eval_dataset=encoded_dataset[validation_key],\n",
    "        tokenizer=tokenizer,\n",
    "        compute_metrics=compute_metrics,\n",
    "    )\n",
    "    transformers.logging.set_verbosity_error()\n",
    "    return trainer"
   ]
  },
  {
   "cell_type": "code",
   "execution_count": 9,
   "metadata": {},
   "outputs": [
    {
     "data": {
      "application/vnd.jupyter.widget-view+json": {
       "model_id": "c8e2f37933ed4f458d966baec0704f87",
       "version_major": 2,
       "version_minor": 0
      },
      "text/plain": [
       "  0%|          | 0/3 [00:00<?, ?it/s]"
      ]
     },
     "metadata": {},
     "output_type": "display_data"
    }
   ],
   "source": [
    "tokenizer = AutoTokenizer.from_pretrained(model_name)\n",
    "sentiment_dataset = load_dataset(\"glue\", task)\n",
    "metric = load_metric(\"glue\", task)"
   ]
  },
  {
   "cell_type": "code",
   "execution_count": 10,
   "metadata": {},
   "outputs": [],
   "source": [
    "encoded_dataset = sentiment_dataset.map(preprocess, batched=True)\n",
    "columns_to_return = ['input_ids', 'label', 'attention_mask']\n",
    "encoded_dataset.set_format(type='torch', columns=columns_to_return)\n",
    "validation_labels = [item[\"label\"] for item in encoded_dataset[validation_key]]"
   ]
  },
  {
   "cell_type": "code",
   "execution_count": 11,
   "metadata": {},
   "outputs": [],
   "source": [
    "model = AutoModelForSequenceClassification.from_pretrained(model_name, num_labels=num_labels)\n",
    "model.save_pretrained(model_path)"
   ]
  },
  {
   "cell_type": "markdown",
   "metadata": {},
   "source": [
    "#### Calibration:\n",
    "The intent of calibration during PTQ is to add QDQ nodes (Quantize-Dequantize) before and after operations to to compute their dynamic ranges. One node will contain the information to perform a mapping between high precision and lower precision number. This is really imporant process in static quantization, especially for the accuracy.  \n",
    "\n",
    "One of the important factors is the range we want to capture the different tensor values in. To find the best range you can use histrogram analysis (=try different percentiles to find the best range, the one with the highest accuracy is the best). If the percentile value is too small, too many values will be put outside the covered range. On the other hand if it's too big, the range will be very big. Both can lead to loss of granularity in model weights."
   ]
  },
  {
   "cell_type": "code",
   "execution_count": 12,
   "metadata": {},
   "outputs": [
    {
     "name": "stderr",
     "output_type": "stream",
     "text": [
      "/tmp/ipykernel_28649/1028507753.py:14: UserWarning: To copy construct from a tensor, it is recommended to use sourceTensor.clone().detach() or sourceTensor.clone().detach().requires_grad_(True), rather than torch.tensor(sourceTensor).\n",
      "  k: torch.tensor(v, dtype=torch.long, device=\"cuda\")\n",
      "[INFO|trainer.py:440] 2022-01-31 13:01:31,044 >> Using amp half precision backend\n"
     ]
    },
    {
     "name": "stdout",
     "output_type": "stream",
     "text": [
      "percentile: 99.9\n",
      "{'eval_loss': 0.4096519351005554, 'eval_accuracy': 0.9013761467889908, 'eval_runtime': 2.8337, 'eval_samples_per_second': 307.724, 'eval_steps_per_second': 4.941}\n",
      "{'eval_loss': 0.4096519351005554, 'eval_accuracy': 0.9013761467889908, 'eval_runtime': 2.8337, 'eval_samples_per_second': 307.724, 'eval_steps_per_second': 4.941}\n"
     ]
    },
    {
     "name": "stderr",
     "output_type": "stream",
     "text": [
      "[INFO|trainer.py:440] 2022-01-31 13:02:16,777 >> Using amp half precision backend\n"
     ]
    },
    {
     "name": "stdout",
     "output_type": "stream",
     "text": [
      "percentile: 99.99\n",
      "{'eval_loss': 0.3778071999549866, 'eval_accuracy': 0.9105504587155964, 'eval_runtime': 2.6232, 'eval_samples_per_second': 332.421, 'eval_steps_per_second': 5.337}\n",
      "{'eval_loss': 0.3778071999549866, 'eval_accuracy': 0.9105504587155964, 'eval_runtime': 2.6232, 'eval_samples_per_second': 332.421, 'eval_steps_per_second': 5.337}\n"
     ]
    },
    {
     "name": "stderr",
     "output_type": "stream",
     "text": [
      "[INFO|trainer.py:440] 2022-01-31 13:03:00,496 >> Using amp half precision backend\n"
     ]
    },
    {
     "name": "stdout",
     "output_type": "stream",
     "text": [
      "percentile: 99.999\n",
      "{'eval_loss': 0.4061073064804077, 'eval_accuracy': 0.9025229357798165, 'eval_runtime': 2.523, 'eval_samples_per_second': 345.619, 'eval_steps_per_second': 5.549}\n",
      "{'eval_loss': 0.4061073064804077, 'eval_accuracy': 0.9025229357798165, 'eval_runtime': 2.523, 'eval_samples_per_second': 345.619, 'eval_steps_per_second': 5.549}\n"
     ]
    },
    {
     "name": "stderr",
     "output_type": "stream",
     "text": [
      "[INFO|trainer.py:440] 2022-01-31 13:03:44,752 >> Using amp half precision backend\n"
     ]
    },
    {
     "name": "stdout",
     "output_type": "stream",
     "text": [
      "percentile: 99.9999\n",
      "{'eval_loss': 0.4007592797279358, 'eval_accuracy': 0.9025229357798165, 'eval_runtime': 2.586, 'eval_samples_per_second': 337.203, 'eval_steps_per_second': 5.414}\n",
      "{'eval_loss': 0.4007592797279358, 'eval_accuracy': 0.9025229357798165, 'eval_runtime': 2.586, 'eval_samples_per_second': 337.203, 'eval_steps_per_second': 5.414}\n"
     ]
    }
   ],
   "source": [
    "for percentile in [99.9, 99.99, 99.999, 99.9999]:\n",
    "    with QATCalibrate(method=\"histogram\", percentile=percentile) as qat:\n",
    "        model_q: PreTrainedModel = AutoModelForSequenceClassification.from_pretrained(\n",
    "            model_path, num_labels=num_labels\n",
    "        )\n",
    "        model_q = model_q.cuda()\n",
    "        qat.setup_model_qat(model_q)  # prepare quantizer to any model\n",
    "\n",
    "        with torch.no_grad():\n",
    "            for start_index in range(0, 128, batch_size):\n",
    "                end_index = start_index + batch_size\n",
    "                data = encoded_dataset[\"train\"][start_index:end_index]\n",
    "                input_torch = {\n",
    "                    k: torch.tensor(v, dtype=torch.long, device=\"cuda\")\n",
    "                    for k, v in data.items()\n",
    "                    if k in [\"input_ids\", \"attention_mask\", \"token_type_ids\"]\n",
    "                }\n",
    "                model_q(**input_torch)\n",
    "    trainer = get_trainer(model_q)\n",
    "    print(f\"percentile: {percentile}\")\n",
    "    print(trainer.evaluate())"
   ]
  },
  {
   "cell_type": "markdown",
   "metadata": {},
   "source": [
    "Once you found your range, use this for the rest the notebook."
   ]
  },
  {
   "cell_type": "code",
   "execution_count": 13,
   "metadata": {},
   "outputs": [
    {
     "name": "stderr",
     "output_type": "stream",
     "text": [
      "/tmp/ipykernel_28649/2923631624.py:13: UserWarning: To copy construct from a tensor, it is recommended to use sourceTensor.clone().detach() or sourceTensor.clone().detach().requires_grad_(True), rather than torch.tensor(sourceTensor).\n",
      "  k: torch.tensor(v, dtype=torch.long, device=\"cuda\")\n",
      "[INFO|trainer.py:440] 2022-01-31 13:04:41,447 >> Using amp half precision backend\n"
     ]
    },
    {
     "name": "stdout",
     "output_type": "stream",
     "text": [
      "{'eval_loss': 0.3778071999549866, 'eval_accuracy': 0.9105504587155964, 'eval_runtime': 2.7206, 'eval_samples_per_second': 320.518, 'eval_steps_per_second': 5.146}\n",
      "{'eval_loss': 0.3778071999549866, 'eval_accuracy': 0.9105504587155964, 'eval_runtime': 2.7206, 'eval_samples_per_second': 320.518, 'eval_steps_per_second': 5.146}\n"
     ]
    }
   ],
   "source": [
    "with QATCalibrate(method=\"histogram\", percentile=99.99) as qat:\n",
    "    model_q: PreTrainedModel = AutoModelForSequenceClassification.from_pretrained(\n",
    "        model_path, num_labels=num_labels\n",
    "    )\n",
    "    model_q = model_q.cuda()\n",
    "    qat.setup_model_qat(model_q)  # prepare quantizer to any model\n",
    "\n",
    "    with torch.no_grad():\n",
    "        for start_index in range(0, 128, batch_size):\n",
    "            end_index = start_index + batch_size\n",
    "            data = encoded_dataset[\"train\"][start_index:end_index]\n",
    "            input_torch = {\n",
    "                k: torch.tensor(v, dtype=torch.long, device=\"cuda\")\n",
    "                for k, v in data.items()\n",
    "                if k in [\"input_ids\", \"attention_mask\", \"token_type_ids\"]\n",
    "            }\n",
    "            model_q(**input_torch)\n",
    "trainer = get_trainer(model_q)\n",
    "print(trainer.evaluate())"
   ]
  },
  {
   "cell_type": "markdown",
   "metadata": {},
   "source": [
    "#### Layer analysis"
   ]
  },
  {
   "cell_type": "markdown",
   "metadata": {},
   "source": [
    "In this code snippet you will enable quantization per one layer to see if one layer has a bigger accuracy cost than other layers. This is really important if you want to minimize the accuracy cost."
   ]
  },
  {
   "cell_type": "code",
   "execution_count": 14,
   "metadata": {},
   "outputs": [
    {
     "name": "stdout",
     "output_type": "stream",
     "text": [
      "layer.0\n",
      "{'eval_loss': 0.37366706132888794, 'eval_accuracy': 0.9105504587155964, 'eval_runtime': 1.4657, 'eval_samples_per_second': 594.948, 'eval_steps_per_second': 9.552}\n",
      "----\n",
      "layer.1\n",
      "{'eval_loss': 0.37543460726737976, 'eval_accuracy': 0.9128440366972477, 'eval_runtime': 1.0704, 'eval_samples_per_second': 814.663, 'eval_steps_per_second': 13.079}\n",
      "----\n",
      "layer.2\n",
      "{'eval_loss': 0.40880557894706726, 'eval_accuracy': 0.8979357798165137, 'eval_runtime': 1.0281, 'eval_samples_per_second': 848.196, 'eval_steps_per_second': 13.618}\n",
      "----\n",
      "layer.3\n",
      "{'eval_loss': 0.3817985951900482, 'eval_accuracy': 0.9059633027522935, 'eval_runtime': 1.0321, 'eval_samples_per_second': 844.914, 'eval_steps_per_second': 13.565}\n",
      "----\n",
      "layer.4\n",
      "{'eval_loss': 0.39371609687805176, 'eval_accuracy': 0.9071100917431193, 'eval_runtime': 1.0108, 'eval_samples_per_second': 862.68, 'eval_steps_per_second': 13.85}\n",
      "----\n",
      "layer.5\n",
      "{'eval_loss': 0.38991713523864746, 'eval_accuracy': 0.908256880733945, 'eval_runtime': 1.006, 'eval_samples_per_second': 866.783, 'eval_steps_per_second': 13.916}\n",
      "----\n"
     ]
    }
   ],
   "source": [
    "for i in range(6):\n",
    "    layer_name = f\"layer.{i}\"\n",
    "    print(layer_name)\n",
    "    for name, module in model_q.named_modules():\n",
    "        if isinstance(module, quant_nn.TensorQuantizer):\n",
    "            if layer_name in name:\n",
    "                module.enable_quant()\n",
    "            else:\n",
    "                module.disable_quant()\n",
    "    trainer.evaluate()\n",
    "    print(\"----\")"
   ]
  },
  {
   "cell_type": "markdown",
   "metadata": {},
   "source": [
    "#### Impact of different operations"
   ]
  },
  {
   "cell_type": "markdown",
   "metadata": {},
   "source": [
    "The same as layer analysis, but for operations."
   ]
  },
  {
   "cell_type": "code",
   "execution_count": 15,
   "metadata": {},
   "outputs": [
    {
     "name": "stdout",
     "output_type": "stream",
     "text": [
      "matmul\n",
      "{'eval_loss': 0.39034372568130493, 'eval_accuracy': 0.9071100917431193, 'eval_runtime': 1.474, 'eval_samples_per_second': 591.602, 'eval_steps_per_second': 9.498}\n",
      "----\n",
      "layernorm\n",
      "{'eval_loss': 0.390187531709671, 'eval_accuracy': 0.9105504587155964, 'eval_runtime': 0.9039, 'eval_samples_per_second': 964.725, 'eval_steps_per_second': 15.489}\n",
      "----\n"
     ]
    }
   ],
   "source": [
    "for op in [\"matmul\", \"layernorm\"]:\n",
    "    for name, module in model_q.named_modules():\n",
    "        if isinstance(module, quant_nn.TensorQuantizer):\n",
    "            if op in name:\n",
    "                module.enable_quant()\n",
    "            else:\n",
    "                module.disable_quant()\n",
    "    print(op)\n",
    "    trainer.evaluate()\n",
    "    print(\"----\")"
   ]
  },
  {
   "cell_type": "markdown",
   "metadata": {},
   "source": [
    "Disable certain layers if needed."
   ]
  },
  {
   "cell_type": "code",
   "execution_count": 16,
   "metadata": {},
   "outputs": [
    {
     "name": "stdout",
     "output_type": "stream",
     "text": [
      "{'eval_loss': 0.3778071999549866, 'eval_accuracy': 0.9105504587155964, 'eval_runtime': 2.5536, 'eval_samples_per_second': 341.482, 'eval_steps_per_second': 5.483}\n"
     ]
    },
    {
     "data": {
      "text/plain": [
       "{'eval_loss': 0.3778071999549866,\n",
       " 'eval_accuracy': 0.9105504587155964,\n",
       " 'eval_runtime': 2.5536,\n",
       " 'eval_samples_per_second': 341.482,\n",
       " 'eval_steps_per_second': 5.483}"
      ]
     },
     "execution_count": 16,
     "metadata": {},
     "output_type": "execute_result"
    }
   ],
   "source": [
    "disable_layer_names = []\n",
    "\n",
    "for name, module in model_q.named_modules():\n",
    "    if isinstance(module, quant_nn.TensorQuantizer):\n",
    "        if any([f\"{l}.output.layernorm\" in name for l in disable_layer_names]):\n",
    "            print(f\"disable {name}\")\n",
    "            module.disable_quant()\n",
    "        else:\n",
    "            module.enable_quant()\n",
    "trainer.evaluate()"
   ]
  },
  {
   "cell_type": "markdown",
   "metadata": {},
   "source": [
    "#### Quantization Aware Training (QAT)"
   ]
  },
  {
   "cell_type": "markdown",
   "metadata": {},
   "source": [
    "Now you will retrain the calibrated model with 1/10 or 1/100 of the original learning rate. The goal is to retrieve most of the original accuracy."
   ]
  },
  {
   "cell_type": "code",
   "execution_count": 17,
   "metadata": {},
   "outputs": [
    {
     "name": "stderr",
     "output_type": "stream",
     "text": [
      "[INFO|trainer.py:440] 2022-01-31 13:07:41,837 >> Using amp half precision backend\n",
      "/usr/local/lib/python3.8/dist-packages/transformers/optimization.py:306: FutureWarning: This implementation of AdamW is deprecated and will be removed in a future version. Use thePyTorch implementation torch.optim.AdamW instead, or set `no_deprecation_warning=True` to disable this warning\n",
      "  warnings.warn(\n"
     ]
    },
    {
     "name": "stdout",
     "output_type": "stream",
     "text": [
      "{'loss': 0.053, 'learning_rate': 5.2589073634204275e-08, 'epoch': 0.48}\n",
      "{'eval_loss': 0.37354376912117004, 'eval_accuracy': 0.9139908256880734, 'eval_runtime': 2.6528, 'eval_samples_per_second': 328.705, 'eval_steps_per_second': 5.277, 'epoch': 0.48}\n",
      "{'loss': 0.0525, 'learning_rate': 5.130641330166271e-09, 'epoch': 0.95}\n",
      "{'eval_loss': 0.37594789266586304, 'eval_accuracy': 0.9094036697247706, 'eval_runtime': 2.2829, 'eval_samples_per_second': 381.963, 'eval_steps_per_second': 6.132, 'epoch': 0.95}\n",
      "{'train_runtime': 490.8982, 'train_samples_per_second': 137.195, 'train_steps_per_second': 4.288, 'train_loss': 0.052978636136813854, 'epoch': 1.0}\n",
      "{'eval_loss': 0.37354376912117004, 'eval_accuracy': 0.9139908256880734, 'eval_runtime': 2.6102, 'eval_samples_per_second': 334.08, 'eval_steps_per_second': 5.364, 'epoch': 1.0}\n",
      "{'eval_loss': 0.37354376912117004, 'eval_accuracy': 0.9139908256880734, 'eval_runtime': 2.6102, 'eval_samples_per_second': 334.08, 'eval_steps_per_second': 5.364, 'epoch': 1.0}\n"
     ]
    }
   ],
   "source": [
    "args.learning_rate = 1e-7\n",
    "trainer = get_trainer(model_q)\n",
    "trainer.train()\n",
    "print(trainer.evaluate())\n",
    "model_q.save_pretrained(f\"{temp_dir}/model-torch-int8\")"
   ]
  },
  {
   "cell_type": "markdown",
   "metadata": {},
   "source": [
    "#### Export a QDQ Pytorch model to ONNX"
   ]
  },
  {
   "cell_type": "code",
   "execution_count": 18,
   "metadata": {},
   "outputs": [
    {
     "name": "stderr",
     "output_type": "stream",
     "text": [
      "/tmp/ipykernel_28649/2328060802.py:30: UserWarning: To copy construct from a tensor, it is recommended to use sourceTensor.clone().detach() or sourceTensor.clone().detach().requires_grad_(True), rather than torch.tensor(sourceTensor).\n",
      "  value = torch.tensor(v, dtype=torch.long, device=\"cuda\")\n",
      "/usr/local/lib/python3.8/dist-packages/pytorch_quantization/nn/modules/tensor_quantizer.py:285: TracerWarning: Converting a tensor to a Python number might cause the trace to be incorrect. We can't record the data flow of Python values, so this value will be treated as a constant in the future. This means that the trace might not generalize to other inputs!\n",
      "  inputs, amax.item() / bound, 0,\n",
      "/usr/local/lib/python3.8/dist-packages/pytorch_quantization/nn/modules/tensor_quantizer.py:291: TracerWarning: Converting a tensor to a Python boolean might cause the trace to be incorrect. We can't record the data flow of Python values, so this value will be treated as a constant in the future. This means that the trace might not generalize to other inputs!\n",
      "  quant_dim = list(amax.shape).index(list(amax_sequeeze.shape)[0])\n"
     ]
    }
   ],
   "source": [
    "data = encoded_dataset[\"train\"][1:3]\n",
    "input_torch = convert_tensor(data, output=\"torch\")\n",
    "convert_to_onnx(model_pytorch=model_q, output_path=f\"{temp_dir}/model-onnx-int8.onnx\", inputs_pytorch=input_torch, quantization=True)"
   ]
  },
  {
   "cell_type": "markdown",
   "metadata": {},
   "source": [
    "Clean-up"
   ]
  },
  {
   "cell_type": "code",
   "execution_count": 19,
   "metadata": {},
   "outputs": [],
   "source": [
    "del model_q\n",
    "QATCalibrate.restore()"
   ]
  },
  {
   "cell_type": "markdown",
   "metadata": {},
   "source": [
    "#### Build TensorRT engine from ONNX graph"
   ]
  },
  {
   "cell_type": "markdown",
   "metadata": {},
   "source": [
    "Keep in mind that you have to choose right configuration options for your use case (= min, optimal and max shape), otherwise the results won't be that good."
   ]
  },
  {
   "cell_type": "code",
   "execution_count": 11,
   "metadata": {},
   "outputs": [],
   "source": [
    "runtime = trt.Runtime(trt_logger)\n",
    "engine = build_engine(\n",
    "    runtime=runtime,\n",
    "    onnx_file_path=f\"{temp_dir}/model-onnx-int8.onnx\",\n",
    "    logger=trt_logger,\n",
    "    min_shape=(1, max_seq_length),\n",
    "    optimal_shape=(batch_size, max_seq_length),\n",
    "    max_shape=(batch_size, max_seq_length),\n",
    "    workspace_size=10000 * 1024 * 1024,\n",
    "    fp16=True,\n",
    "    int8=True,\n",
    ")"
   ]
  },
  {
   "cell_type": "markdown",
   "metadata": {},
   "source": [
    "#### Export TensorRT engine for Triton"
   ]
  },
  {
   "cell_type": "code",
   "execution_count": 12,
   "metadata": {},
   "outputs": [],
   "source": [
    "save_engine(engine=engine, engine_file_path=f\"{temp_dir}/model-tensorrt-int8.plan\")"
   ]
  },
  {
   "cell_type": "markdown",
   "metadata": {},
   "source": [
    "#### Testing/Benchmarking TensorRT engine"
   ]
  },
  {
   "cell_type": "code",
   "execution_count": 13,
   "metadata": {},
   "outputs": [],
   "source": [
    "profile_index=0\n",
    "stream = pycuda.driver.Stream()\n",
    "context = engine.create_execution_context()\n",
    "context.set_optimization_profile_async(profile_index=profile_index, stream_handle=stream.handle)\n",
    "input_binding_idxs, output_binding_idxs = get_binding_idxs(engine, profile_index) "
   ]
  },
  {
   "cell_type": "code",
   "execution_count": 14,
   "metadata": {},
   "outputs": [],
   "source": [
    "class Benchmarker:\n",
    "    def __init__(self, name, pipeline, dataset=None) -> None:\n",
    "        self.name = name\n",
    "        self.pipeline = pipeline\n",
    "        self.dataset = dataset\n",
    "    \n",
    "    def measure_latency(self, input_data) -> dict:\n",
    "        latencies = list()\n",
    "        for _ in range(100):\n",
    "            self.pipeline(input_data)\n",
    "        \n",
    "        for _ in range(1000):\n",
    "            start_time = time.perf_counter()\n",
    "            self.pipeline(input_data)\n",
    "            end_time = time.perf_counter()\n",
    "            latencies.append((end_time - start_time)*1000)\n",
    "        \n",
    "        latencies = np.array(latencies)\n",
    "        return {\"average_latency\": np.mean(latencies), \"std_latency\": np.std(latencies)}\n",
    "    \n",
    "    def compute_accuracy(self, dataset=None) -> float:\n",
    "        if dataset is None:\n",
    "            dataset = self.dataset\n",
    "        \n",
    "        predictions, labels = [], []\n",
    "\n",
    "        for sample in tqdm(self.dataset):\n",
    "            prediction = self.pipeline(sample[\"sentence\"])[0][\"label\"]\n",
    "            predictions.append(prediction)\n",
    "            labels.append(sample[\"label\"])\n",
    "        \n",
    "        return accuracy_score.compute(predictions=predictions, references=labels).get(\"accuracy\")\n",
    "    \n",
    "    def compute_size(self):\n",
    "        state_dict = self.pipeline.model.state_dict()\n",
    "        tmp_path = Path(\"model.pt\")\n",
    "        torch.save(state_dict, tmp_path)\n",
    "        size_mb = Path(tmp_path).stat().st_size / (1024 * 1024)\n",
    "        tmp_path.unlink()\n",
    "        return size_mb\n",
    "    \n",
    "    def run_full_benchmark(self, input_data, dataset=None):\n",
    "        result = {\"name\": self.name}\n",
    "        result.update(self.measure_latency(input_data))\n",
    "        result[\"accuracy\"] = self.compute_accuracy(dataset) \n",
    "        result[\"size\"] = self.compute_size()\n",
    "        return result\n",
    "    \n",
    "    def print_results(self, benchmark_report):\n",
    "        print(f\"BENCHMARK REPORT\".center(40, \"-\"))\n",
    "        print(f\"Name {benchmark_report['name']}\")\n",
    "        print(f\"Latency: {benchmark_report['average_latency']:.2f} ms\")\n",
    "        print(f\"Accuracy on dataset: {benchmark_report['accuracy'] * 100:.2f}%\")\n",
    "        print(f\"Size: {benchmark_report['size']:.2f} MB\")\n",
    "        print(f\"\".center(40, \"-\"))"
   ]
  },
  {
   "cell_type": "code",
   "execution_count": 15,
   "metadata": {},
   "outputs": [],
   "source": [
    "class TensorRTBenchmarker(Benchmarker):\n",
    "    def __init__(self, *args, **kwargs):\n",
    "        super().__init__(*args, **kwargs)\n",
    "    \n",
    "    def compute_accuracy(self, dataset=None) -> float:\n",
    "        if dataset is None:\n",
    "            dataset = self.dataset\n",
    "        \n",
    "        predictions, labels = [], []\n",
    "\n",
    "        for sample in tqdm(self.dataset):\n",
    "            prediction = self.pipeline(sample[\"sentence\"])[0][\"label\"]\n",
    "            predictions.append(prediction)\n",
    "            labels.append(sample[\"label\"])\n",
    "        \n",
    "        return accuracy_score.compute(predictions=predictions, references=labels).get(\"accuracy\")\n",
    "    \n",
    "    def compute_size(self):\n",
    "        save_engine(engine=engine, engine_file_path=\"model.plan\")\n",
    "        tmp_path = Path(\"model.plan\")\n",
    "        size_mb = Path(tmp_path).stat().st_size / (1024 * 1024)\n",
    "        tmp_path.unlink()\n",
    "        return size_mb\n"
   ]
  },
  {
   "cell_type": "code",
   "execution_count": 16,
   "metadata": {},
   "outputs": [],
   "source": [
    "class TensorRTPipeline:\n",
    "    def __init__(self, engine, tokenizer):\n",
    "        self.engine = engine\n",
    "        self.tokenizer = tokenizer\n",
    "\n",
    "    def __call__(self, data):\n",
    "        encoded_data = self.tokenizer([data], truncation=True, padding=\"max_length\", max_length=max_seq_length)\n",
    "        input_np = convert_tensor(data=encoded_data, output=\"np\")\n",
    "\n",
    "        logits = infer_tensorrt(\n",
    "            context=context,\n",
    "            host_inputs=input_np,\n",
    "            input_binding_idxs=input_binding_idxs,\n",
    "            output_binding_idxs=output_binding_idxs,\n",
    "            stream=stream,\n",
    "        )\n",
    "        probs = softmax(logits)\n",
    "        pred_idx = np.argmax(probs).item()\n",
    "        return [{\"label\": pred_idx, \"score\": probs.flatten()[pred_idx]}]"
   ]
  },
  {
   "cell_type": "code",
   "execution_count": 17,
   "metadata": {},
   "outputs": [],
   "source": [
    "from scipy.special import softmax\n",
    "\n",
    "class PytorchPipeline:\n",
    "    def __init__(self, model, tokenizer):\n",
    "        self.model = model\n",
    "        self.tokenizer = tokenizer\n",
    "\n",
    "    def __call__(self, data):\n",
    "        input_torch = self.tokenizer(data, truncation=True, padding=\"max_length\", max_length=max_seq_length, return_tensors=\"pt\")\n",
    "        input_torch.to(\"cuda:0\")\n",
    "        output = baseline_model(**input_torch)\n",
    "        torch.cuda.synchronize()\n",
    "        probs = softmax(output.logits.cpu())\n",
    "        pred_idx = np.argmax(probs).item()\n",
    "        return [{\"label\": pred_idx, \"score\": probs.flatten()[pred_idx]}]"
   ]
  },
  {
   "cell_type": "markdown",
   "metadata": {},
   "source": [
    "#### TensorRT baseline (INT8)"
   ]
  },
  {
   "cell_type": "code",
   "execution_count": 18,
   "metadata": {},
   "outputs": [
    {
     "name": "stderr",
     "output_type": "stream",
     "text": [
      "100%|██████████| 872/872 [00:01<00:00, 598.69it/s]\n"
     ]
    },
    {
     "name": "stdout",
     "output_type": "stream",
     "text": [
      "------------BENCHMARK REPORT------------\n",
      "Name model-trt-quant-int8\n",
      "Latency: 1.54 ms\n",
      "Accuracy on dataset: 90.71%\n",
      "Size: 323.34 MB\n",
      "----------------------------------------\n"
     ]
    },
    {
     "name": "stderr",
     "output_type": "stream",
     "text": [
      "/tmp/ipykernel_21517/467476356.py:5: FutureWarning: The frame.append method is deprecated and will be removed from pandas in a future version. Use pandas.concat instead.\n",
      "  benchmark_results_df = benchmark_results_df.append(benchmark_report, ignore_index=True)\n"
     ]
    }
   ],
   "source": [
    "classifier = TensorRTPipeline(engine, tokenizer)\n",
    "benchmarker = TensorRTBenchmarker(f\"model-trt-quant-int8\", classifier, dataset=sentiment_dataset[\"validation\"])\n",
    "benchmark_report = benchmarker.run_full_benchmark(\"I like you!\")\n",
    "benchmarker.print_results(benchmark_report)\n",
    "benchmark_results_df = benchmark_results_df.append(benchmark_report, ignore_index=True)"
   ]
  },
  {
   "cell_type": "markdown",
   "metadata": {},
   "source": [
    "#### PyTorch baseline (FP32)"
   ]
  },
  {
   "cell_type": "code",
   "execution_count": 19,
   "metadata": {},
   "outputs": [
    {
     "name": "stderr",
     "output_type": "stream",
     "text": [
      "100%|██████████| 872/872 [00:05<00:00, 166.40it/s]\n"
     ]
    },
    {
     "name": "stdout",
     "output_type": "stream",
     "text": [
      "------------BENCHMARK REPORT------------\n",
      "Name model-torch-quant-fp32\n",
      "Latency: 5.84 ms\n",
      "Accuracy on dataset: 91.06%\n",
      "Size: 255.45 MB\n",
      "----------------------------------------\n"
     ]
    },
    {
     "name": "stderr",
     "output_type": "stream",
     "text": [
      "/tmp/ipykernel_21517/494505071.py:9: FutureWarning: The frame.append method is deprecated and will be removed from pandas in a future version. Use pandas.concat instead.\n",
      "  benchmark_results_df = benchmark_results_df.append(benchmark_report, ignore_index=True)\n"
     ]
    }
   ],
   "source": [
    "baseline_model = AutoModelForSequenceClassification.from_pretrained(model_path, num_labels=num_labels).to(\"cuda:0\")\n",
    "baseline_model = baseline_model.cuda()\n",
    "baseline_model = baseline_model.eval()\n",
    "with torch.inference_mode(): \n",
    "    classifier = PytorchPipeline(model=baseline_model, tokenizer=tokenizer)\n",
    "    benchmarker = Benchmarker(f\"model-torch-quant-fp32\", classifier, sentiment_dataset[\"validation\"])\n",
    "    benchmark_report = benchmarker.run_full_benchmark(\"I like you!\")\n",
    "benchmarker.print_results(benchmark_report)\n",
    "benchmark_results_df = benchmark_results_df.append(benchmark_report, ignore_index=True)"
   ]
  },
  {
   "cell_type": "markdown",
   "metadata": {},
   "source": [
    "#### PyTorch baseline (FP16)"
   ]
  },
  {
   "cell_type": "code",
   "execution_count": 20,
   "metadata": {},
   "outputs": [
    {
     "name": "stderr",
     "output_type": "stream",
     "text": [
      "100%|██████████| 872/872 [00:04<00:00, 216.24it/s]\n"
     ]
    },
    {
     "name": "stdout",
     "output_type": "stream",
     "text": [
      "------------BENCHMARK REPORT------------\n",
      "Name model-torch-quant-fp16\n",
      "Latency: 4.81 ms\n",
      "Accuracy on dataset: 91.06%\n",
      "Size: 255.45 MB\n",
      "----------------------------------------\n"
     ]
    },
    {
     "name": "stderr",
     "output_type": "stream",
     "text": [
      "/tmp/ipykernel_21517/2465702651.py:7: FutureWarning: The frame.append method is deprecated and will be removed from pandas in a future version. Use pandas.concat instead.\n",
      "  benchmark_results_df = benchmark_results_df.append(benchmark_report, ignore_index=True)\n"
     ]
    }
   ],
   "source": [
    "classifier = PytorchPipeline(model=baseline_model, tokenizer=tokenizer)\n",
    "with torch.inference_mode():\n",
    "    with torch.cuda.amp.autocast():\n",
    "        benchmarker = Benchmarker(f\"model-torch-quant-fp16\", classifier, sentiment_dataset[\"validation\"])\n",
    "        benchmark_report = benchmarker.run_full_benchmark(\"I like you!\")\n",
    "benchmarker.print_results(benchmark_report)\n",
    "benchmark_results_df = benchmark_results_df.append(benchmark_report, ignore_index=True)"
   ]
  },
  {
   "cell_type": "markdown",
   "metadata": {},
   "source": [
    "#### Convert PyTorch baseline (FP16) to ONNX graph"
   ]
  },
  {
   "cell_type": "code",
   "execution_count": 21,
   "metadata": {},
   "outputs": [
    {
     "name": "stderr",
     "output_type": "stream",
     "text": [
      "/tmp/ipykernel_21517/2328060802.py:30: UserWarning: To copy construct from a tensor, it is recommended to use sourceTensor.clone().detach() or sourceTensor.clone().detach().requires_grad_(True), rather than torch.tensor(sourceTensor).\n",
      "  value = torch.tensor(v, dtype=torch.long, device=\"cuda\")\n"
     ]
    }
   ],
   "source": [
    "data = encoded_dataset[\"train\"][1:3]\n",
    "input_torch = convert_tensor(data, output=\"torch\")"
   ]
  },
  {
   "cell_type": "code",
   "execution_count": 22,
   "metadata": {},
   "outputs": [],
   "source": [
    "baseline_model = AutoModelForSequenceClassification.from_pretrained(model_path, num_labels=num_labels)\n",
    "baseline_model = baseline_model.cuda()\n",
    "convert_to_onnx(baseline_model, output_path=f\"{temp_dir}/model-onnx.onnx\", inputs_pytorch=input_torch, quantization=False)\n",
    "del baseline_model"
   ]
  },
  {
   "cell_type": "markdown",
   "metadata": {},
   "source": [
    "#### TensorRT baseline (FP16)"
   ]
  },
  {
   "cell_type": "code",
   "execution_count": 23,
   "metadata": {},
   "outputs": [],
   "source": [
    "runtime = trt.Runtime(trt_logger)\n",
    "profile_index=0\n",
    "engine = build_engine(\n",
    "    runtime=runtime,\n",
    "    onnx_file_path=f\"{temp_dir}/model-onnx.onnx\",\n",
    "    logger=trt_logger,\n",
    "    min_shape=(1, max_seq_length),\n",
    "    optimal_shape=(batch_size, max_seq_length),\n",
    "    max_shape=(batch_size, max_seq_length),\n",
    "    workspace_size=10000 * 1024 * 1024,\n",
    "    fp16=True,\n",
    "    int8=False,\n",
    ")\n",
    "save_engine(engine=engine, engine_file_path=f\"{temp_dir}/model-trt-quant-fp16.plan\")"
   ]
  },
  {
   "cell_type": "code",
   "execution_count": 24,
   "metadata": {},
   "outputs": [],
   "source": [
    "profile_index = 0\n",
    "stream: Stream = pycuda.driver.Stream()\n",
    "context: IExecutionContext = engine.create_execution_context()\n",
    "context.set_optimization_profile_async(profile_index=profile_index, stream_handle=stream.handle)\n",
    "input_binding_idxs, output_binding_idxs = get_binding_idxs(engine, profile_index)"
   ]
  },
  {
   "cell_type": "code",
   "execution_count": 25,
   "metadata": {},
   "outputs": [
    {
     "name": "stderr",
     "output_type": "stream",
     "text": [
      "100%|██████████| 872/872 [00:01<00:00, 510.31it/s]\n"
     ]
    },
    {
     "name": "stdout",
     "output_type": "stream",
     "text": [
      "------------BENCHMARK REPORT------------\n",
      "Name model-trt-fp16\n",
      "Latency: 1.73 ms\n",
      "Accuracy on dataset: 91.06%\n",
      "Size: 522.44 MB\n",
      "----------------------------------------\n"
     ]
    },
    {
     "name": "stderr",
     "output_type": "stream",
     "text": [
      "/tmp/ipykernel_21517/2572588026.py:5: FutureWarning: The frame.append method is deprecated and will be removed from pandas in a future version. Use pandas.concat instead.\n",
      "  benchmark_results_df = benchmark_results_df.append(benchmark_report, ignore_index=True)\n"
     ]
    }
   ],
   "source": [
    "classifier = TensorRTPipeline(engine, tokenizer)\n",
    "benchmarker = TensorRTBenchmarker(f\"model-trt-fp16\", classifier, dataset=sentiment_dataset[\"validation\"])\n",
    "benchmark_report = benchmarker.run_full_benchmark(\"I like you!\")\n",
    "benchmarker.print_results(benchmark_report)\n",
    "benchmark_results_df = benchmark_results_df.append(benchmark_report, ignore_index=True)"
   ]
  },
  {
   "cell_type": "markdown",
   "metadata": {},
   "source": [
    "#### ONNX benchmarking"
   ]
  },
  {
   "cell_type": "code",
   "execution_count": 30,
   "metadata": {},
   "outputs": [],
   "source": [
    "num_attention_heads, hidden_size = get_model_size(path=model_path)\n",
    "optimize_onnx(\n",
    "    onnx_path=f\"{temp_dir}/model-onnx.onnx\",\n",
    "    onnx_optim_model_path=f\"{temp_dir}/model-onnx-fp16.onnx\",\n",
    "    fp16=True,\n",
    "    use_cuda=True,\n",
    "    num_attention_heads=num_attention_heads,\n",
    "    hidden_size=hidden_size,\n",
    ")"
   ]
  },
  {
   "cell_type": "code",
   "execution_count": 31,
   "metadata": {},
   "outputs": [],
   "source": [
    "class OnnxPipeline:\n",
    "    def __init__(self, model, tokenizer):\n",
    "        self.model = model\n",
    "        self.tokenizer = tokenizer\n",
    "\n",
    "    def __call__(self, query):\n",
    "        model_inputs = self.tokenizer(query, return_tensors=\"pt\")\n",
    "        inputs_onnx = {k: v.cpu().detach().numpy()\n",
    "                       for k, v in model_inputs.items()}\n",
    "        logits = self.model.run(None, inputs_onnx)[0][0, :]\n",
    "        probs = softmax(logits)\n",
    "        pred_idx = np.argmax(probs).item()\n",
    "        return [{\"label\": pred_idx, \"score\": probs[pred_idx]}]"
   ]
  },
  {
   "cell_type": "code",
   "execution_count": 32,
   "metadata": {},
   "outputs": [],
   "source": [
    "class OnnxBenchmarker(Benchmarker):\n",
    "    def __init__(self, *args, **kwargs):\n",
    "        super().__init__(*args, **kwargs)\n",
    "        \n",
    "    def compute_size(self):\n",
    "        size_mb = Path(f\"{temp_dir}/{self.name}.onnx\").stat().st_size / (1024 * 1024)\n",
    "        return size_mb\n",
    "    \n",
    "    def compute_accuracy(self, dataset):\n",
    "        \"\"\"This overrides the PerformanceBenchmark.compute_accuracy() method\"\"\"\n",
    "        if dataset is None:\n",
    "            dataset = self.dataset\n",
    "        \n",
    "        predictions, labels = [], []\n",
    "\n",
    "        for sample in tqdm(self.dataset):\n",
    "            prediction = self.pipeline(sample[\"sentence\"])[0][\"label\"]\n",
    "            predictions.append(prediction)\n",
    "            labels.append(sample[\"label\"])\n",
    "        \n",
    "        return accuracy_score.compute(predictions=predictions, references=labels).get(\"accuracy\")"
   ]
  },
  {
   "cell_type": "code",
   "execution_count": 33,
   "metadata": {},
   "outputs": [
    {
     "name": "stderr",
     "output_type": "stream",
     "text": [
      "100%|██████████| 872/872 [00:01<00:00, 611.64it/s]"
     ]
    },
    {
     "name": "stdout",
     "output_type": "stream",
     "text": [
      "------------BENCHMARK REPORT------------\n",
      "Name model-onnx-fp16\n",
      "Latency: 1.82 ms\n",
      "Accuracy on dataset: 91.06%\n",
      "Size: 132.79 MB\n",
      "----------------------------------------\n"
     ]
    },
    {
     "name": "stderr",
     "output_type": "stream",
     "text": [
      "\n",
      "/tmp/ipykernel_21517/3652221850.py:7: FutureWarning: The frame.append method is deprecated and will be removed from pandas in a future version. Use pandas.concat instead.\n",
      "  benchmark_results_df = benchmark_results_df.append(benchmark_report, ignore_index=True)\n"
     ]
    }
   ],
   "source": [
    "provider = \"CUDAExecutionProvider\"\n",
    "model = create_model_for_provider(path=f\"{temp_dir}/model-onnx-fp16.onnx\", provider_to_use=provider)\n",
    "classifier = OnnxPipeline(model, tokenizer)\n",
    "benchmarker = OnnxBenchmarker(\"model-onnx-fp16\", classifier, sentiment_dataset[\"validation\"])\n",
    "benchmark_report = benchmarker.run_full_benchmark(\"I like you!\")\n",
    "benchmarker.print_results(benchmark_report)\n",
    "benchmark_results_df = benchmark_results_df.append(benchmark_report, ignore_index=True)\n",
    "del model"
   ]
  },
  {
   "cell_type": "markdown",
   "metadata": {},
   "source": [
    "## Wrap-up"
   ]
  },
  {
   "cell_type": "code",
   "execution_count": 38,
   "metadata": {},
   "outputs": [
    {
     "data": {
      "image/png": "[encoded data removed]",
      "text/plain": [
       "<Figure size 432x288 with 1 Axes>"
      ]
     },
     "metadata": {
      "needs_background": "light"
     },
     "output_type": "display_data"
    }
   ],
   "source": [
    "graph = sns.barplot(x=\"average_latency\", y=\"name\", data=benchmark_results_df, order=benchmark_results_df.sort_values('average_latency', ascending=False)[\"name\"], orient=\"h\")\n",
    "graph.set_title(\"Comparison of the size of the models\")\n",
    "graph.set_ylabel(\"Model\")\n",
    "graph.set_xlabel(\"Average latency in ms\")\n",
    "plt.show()"
   ]
  },
  {
   "cell_type": "code",
   "execution_count": 39,
   "metadata": {},
   "outputs": [
    {
     "data": {
      "image/png": "[encoded data removed]",
      "text/plain": [
       "<Figure size 432x288 with 1 Axes>"
      ]
     },
     "metadata": {
      "needs_background": "light"
     },
     "output_type": "display_data"
    }
   ],
   "source": [
    "graph = sns.barplot(x=\"size\", y=\"name\", data=benchmark_results_df, order=benchmark_results_df.sort_values('size', ascending=False)[\"name\"], orient=\"h\")\n",
    "graph.set_title(\"Comparison of the size of the models\")\n",
    "graph.set_ylabel(\"Model\")\n",
    "graph.set_xlabel(\"Model size in MB\")\n",
    "plt.show()"
   ]
  },
  {
   "cell_type": "code",
   "execution_count": 34,
   "metadata": {},
   "outputs": [
    {
     "data": {
      "text/html": [
       "<div>\n",
       "<style scoped>\n",
       "    .dataframe tbody tr th:only-of-type {\n",
       "        vertical-align: middle;\n",
       "    }\n",
       "\n",
       "    .dataframe tbody tr th {\n",
       "        vertical-align: top;\n",
       "    }\n",
       "\n",
       "    .dataframe thead th {\n",
       "        text-align: right;\n",
       "    }\n",
       "</style>\n",
       "<table border=\"1\" class=\"dataframe\">\n",
       "  <thead>\n",
       "    <tr style=\"text-align: right;\">\n",
       "      <th></th>\n",
       "      <th>name</th>\n",
       "      <th>average_latency</th>\n",
       "      <th>std_latency</th>\n",
       "      <th>accuracy</th>\n",
       "      <th>size</th>\n",
       "    </tr>\n",
       "  </thead>\n",
       "  <tbody>\n",
       "    <tr>\n",
       "      <th>0</th>\n",
       "      <td>model-trt-quant-int8</td>\n",
       "      <td>1.535285</td>\n",
       "      <td>0.049556</td>\n",
       "      <td>0.90711</td>\n",
       "      <td>323.336419</td>\n",
       "    </tr>\n",
       "    <tr>\n",
       "      <th>1</th>\n",
       "      <td>model-torch-quant-fp32</td>\n",
       "      <td>5.839292</td>\n",
       "      <td>0.25408</td>\n",
       "      <td>0.91055</td>\n",
       "      <td>255.45128</td>\n",
       "    </tr>\n",
       "    <tr>\n",
       "      <th>2</th>\n",
       "      <td>model-torch-quant-fp16</td>\n",
       "      <td>4.813864</td>\n",
       "      <td>0.507173</td>\n",
       "      <td>0.91055</td>\n",
       "      <td>255.45128</td>\n",
       "    </tr>\n",
       "    <tr>\n",
       "      <th>3</th>\n",
       "      <td>model-trt-fp16</td>\n",
       "      <td>1.733514</td>\n",
       "      <td>0.262651</td>\n",
       "      <td>0.91055</td>\n",
       "      <td>522.438625</td>\n",
       "    </tr>\n",
       "    <tr>\n",
       "      <th>4</th>\n",
       "      <td>model-onnx-fp16</td>\n",
       "      <td>1.816036</td>\n",
       "      <td>0.175537</td>\n",
       "      <td>0.91055</td>\n",
       "      <td>132.787996</td>\n",
       "    </tr>\n",
       "  </tbody>\n",
       "</table>\n",
       "</div>"
      ],
      "text/plain": [
       "                     name average_latency std_latency accuracy        size\n",
       "0    model-trt-quant-int8        1.535285    0.049556  0.90711  323.336419\n",
       "1  model-torch-quant-fp32        5.839292     0.25408  0.91055   255.45128\n",
       "2  model-torch-quant-fp16        4.813864    0.507173  0.91055   255.45128\n",
       "3          model-trt-fp16        1.733514    0.262651  0.91055  522.438625\n",
       "4         model-onnx-fp16        1.816036    0.175537  0.91055  132.787996"
      ]
     },
     "execution_count": 34,
     "metadata": {},
     "output_type": "execute_result"
    }
   ],
   "source": [
    "benchmark_results_df"
   ]
  },
  {
   "cell_type": "markdown",
   "metadata": {},
   "source": [
    "💨 Conclusion: Techniques such as serving frameworks (e.g. ONNX, ONNX + TensorRT) and quantization can speed up transformer model inference a lot (more than 3.7x). The accuracy drop < 1%, so this is definitely a huge improvement. The TensorRT INT8 model is the fastest and ONNX fp16 model is the smallest."
   ]
  }
 ],
 "metadata": {
  "interpreter": {
   "hash": "86626b1ac732a796952688aab487e86bcc6df3c2d745fd32e029397d6b2f4272"
  },
  "kernelspec": {
   "display_name": "Python 3.9.7 64-bit ('gpu_optimized_transformer': conda)",
   "language": "python",
   "name": "python3"
  },
  "language_info": {
   "codemirror_mode": {
    "name": "ipython",
    "version": 3
   },
   "file_extension": ".py",
   "mimetype": "text/x-python",
   "name": "python",
   "nbconvert_exporter": "python",
   "pygments_lexer": "ipython3",
   "version": "3.8.10"
  },
  "orig_nbformat": 4
 },
 "nbformat": 4,
 "nbformat_minor": 2
}
